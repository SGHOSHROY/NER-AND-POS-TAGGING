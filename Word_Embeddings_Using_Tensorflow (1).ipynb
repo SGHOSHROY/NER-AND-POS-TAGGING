{
  "nbformat": 4,
  "nbformat_minor": 0,
  "metadata": {
    "colab": {
      "provenance": []
    },
    "kernelspec": {
      "name": "python3",
      "display_name": "Python 3"
    },
    "language_info": {
      "name": "python"
    }
  },
  "cells": [
    {
      "cell_type": "code",
      "execution_count": null,
      "metadata": {
        "id": "EtRHbjnrsTQa"
      },
      "outputs": [],
      "source": [
        "import numpy as np\n",
        "from tensorflow.keras.preprocessing.text import one_hot\n",
        "from tensorflow.keras.preprocessing.sequence import pad_sequences\n",
        "from tensorflow.keras.models import Sequential\n",
        "from tensorflow.keras.layers import Dense\n",
        "from tensorflow.keras.layers import Flatten\n",
        "from tensorflow.keras.layers import Embedding"
      ]
    },
    {
      "cell_type": "code",
      "source": [
        "reviews = ['nice food',\n",
        "        'amazing restaurant',\n",
        "        'too good',\n",
        "        'just loved it!',\n",
        "        'will go again',\n",
        "        'horrible food',\n",
        "        'never go there',\n",
        "        'poor service',\n",
        "        'poor quality',\n",
        "        'needs improvement']\n",
        "\n",
        "sentiment = np.array([1,1,1,1,1,0,0,0,0,0])"
      ],
      "metadata": {
        "id": "7-cdY7Sbss22"
      },
      "execution_count": null,
      "outputs": []
    },
    {
      "cell_type": "code",
      "source": [
        "one_hot(\"amazing restaurant\", 50)"
      ],
      "metadata": {
        "colab": {
          "base_uri": "https://localhost:8080/"
        },
        "id": "F-qkQHfYs6dq",
        "outputId": "8d5d8150-201c-4164-e917-ead94db8fc1b"
      },
      "execution_count": null,
      "outputs": [
        {
          "output_type": "execute_result",
          "data": {
            "text/plain": [
              "[30, 46]"
            ]
          },
          "metadata": {},
          "execution_count": 4
        }
      ]
    },
    {
      "cell_type": "code",
      "source": [
        "max_length = 4\n",
        "vocab_size = 50\n",
        "encoded_reviews = [one_hot(d, vocab_size) for d in reviews]\n",
        "padded_reviews = pad_sequences(encoded_reviews, maxlen=max_length, padding='post')\n",
        "print(padded_reviews)"
      ],
      "metadata": {
        "colab": {
          "base_uri": "https://localhost:8080/"
        },
        "id": "GV0XTcDyuSOZ",
        "outputId": "3dc52c97-bebb-4adf-8f3d-661ded3950a6"
      },
      "execution_count": null,
      "outputs": [
        {
          "output_type": "stream",
          "name": "stdout",
          "text": [
            "[[45 18  0  0]\n",
            " [30 46  0  0]\n",
            " [31  5  0  0]\n",
            " [39 42 27  0]\n",
            " [21  6 27  0]\n",
            " [22 18  0  0]\n",
            " [38  6 24  0]\n",
            " [49 30  0  0]\n",
            " [49 27  0  0]\n",
            " [11 21  0  0]]\n"
          ]
        }
      ]
    },
    {
      "cell_type": "code",
      "source": [
        "model = Sequential()\n",
        "embeded_vector_size = 5\n",
        "model.add(Embedding(vocab_size, embeded_vector_size, input_length=max_length, name=\"embedding\"))\n",
        "model.add(Flatten())\n",
        "model.add(Dense(1, activation='sigmoid'))"
      ],
      "metadata": {
        "colab": {
          "base_uri": "https://localhost:8080/"
        },
        "id": "mGiXTpakgIGD",
        "outputId": "c68d5448-eea4-4e1a-9eb9-680fc60da12c"
      },
      "execution_count": null,
      "outputs": [
        {
          "output_type": "stream",
          "name": "stderr",
          "text": [
            "/usr/local/lib/python3.11/dist-packages/keras/src/layers/core/embedding.py:90: UserWarning: Argument `input_length` is deprecated. Just remove it.\n",
            "  warnings.warn(\n"
          ]
        }
      ]
    },
    {
      "cell_type": "code",
      "source": [
        "X = padded_reviews\n",
        "y = sentiment"
      ],
      "metadata": {
        "id": "lzxBRSnFge-i"
      },
      "execution_count": null,
      "outputs": []
    },
    {
      "cell_type": "code",
      "source": [
        "model.compile(optimizer='adam', loss='binary_crossentropy', metrics=['accuracy'])\n",
        "print(model.summary())"
      ],
      "metadata": {
        "colab": {
          "base_uri": "https://localhost:8080/",
          "height": 242
        },
        "id": "tnVE-4NHiZvP",
        "outputId": "d0fce6e3-5342-4a8e-f04e-46707100d04e"
      },
      "execution_count": null,
      "outputs": [
        {
          "output_type": "display_data",
          "data": {
            "text/plain": [
              "\u001b[1mModel: \"sequential_2\"\u001b[0m\n"
            ],
            "text/html": [
              "<pre style=\"white-space:pre;overflow-x:auto;line-height:normal;font-family:Menlo,'DejaVu Sans Mono',consolas,'Courier New',monospace\"><span style=\"font-weight: bold\">Model: \"sequential_2\"</span>\n",
              "</pre>\n"
            ]
          },
          "metadata": {}
        },
        {
          "output_type": "display_data",
          "data": {
            "text/plain": [
              "┏━━━━━━━━━━━━━━━━━━━━━━━━━━━━━━━━━━━━━━┳━━━━━━━━━━━━━━━━━━━━━━━━━━━━━┳━━━━━━━━━━━━━━━━━┓\n",
              "┃\u001b[1m \u001b[0m\u001b[1mLayer (type)                        \u001b[0m\u001b[1m \u001b[0m┃\u001b[1m \u001b[0m\u001b[1mOutput Shape               \u001b[0m\u001b[1m \u001b[0m┃\u001b[1m \u001b[0m\u001b[1m        Param #\u001b[0m\u001b[1m \u001b[0m┃\n",
              "┡━━━━━━━━━━━━━━━━━━━━━━━━━━━━━━━━━━━━━━╇━━━━━━━━━━━━━━━━━━━━━━━━━━━━━╇━━━━━━━━━━━━━━━━━┩\n",
              "│ embedding (\u001b[38;5;33mEmbedding\u001b[0m)                │ ?                           │     \u001b[38;5;34m0\u001b[0m (unbuilt) │\n",
              "├──────────────────────────────────────┼─────────────────────────────┼─────────────────┤\n",
              "│ flatten (\u001b[38;5;33mFlatten\u001b[0m)                    │ ?                           │     \u001b[38;5;34m0\u001b[0m (unbuilt) │\n",
              "├──────────────────────────────────────┼─────────────────────────────┼─────────────────┤\n",
              "│ dense (\u001b[38;5;33mDense\u001b[0m)                        │ ?                           │     \u001b[38;5;34m0\u001b[0m (unbuilt) │\n",
              "└──────────────────────────────────────┴─────────────────────────────┴─────────────────┘\n"
            ],
            "text/html": [
              "<pre style=\"white-space:pre;overflow-x:auto;line-height:normal;font-family:Menlo,'DejaVu Sans Mono',consolas,'Courier New',monospace\">┏━━━━━━━━━━━━━━━━━━━━━━━━━━━━━━━━━━━━━━┳━━━━━━━━━━━━━━━━━━━━━━━━━━━━━┳━━━━━━━━━━━━━━━━━┓\n",
              "┃<span style=\"font-weight: bold\"> Layer (type)                         </span>┃<span style=\"font-weight: bold\"> Output Shape                </span>┃<span style=\"font-weight: bold\">         Param # </span>┃\n",
              "┡━━━━━━━━━━━━━━━━━━━━━━━━━━━━━━━━━━━━━━╇━━━━━━━━━━━━━━━━━━━━━━━━━━━━━╇━━━━━━━━━━━━━━━━━┩\n",
              "│ embedding (<span style=\"color: #0087ff; text-decoration-color: #0087ff\">Embedding</span>)                │ ?                           │     <span style=\"color: #00af00; text-decoration-color: #00af00\">0</span> (unbuilt) │\n",
              "├──────────────────────────────────────┼─────────────────────────────┼─────────────────┤\n",
              "│ flatten (<span style=\"color: #0087ff; text-decoration-color: #0087ff\">Flatten</span>)                    │ ?                           │     <span style=\"color: #00af00; text-decoration-color: #00af00\">0</span> (unbuilt) │\n",
              "├──────────────────────────────────────┼─────────────────────────────┼─────────────────┤\n",
              "│ dense (<span style=\"color: #0087ff; text-decoration-color: #0087ff\">Dense</span>)                        │ ?                           │     <span style=\"color: #00af00; text-decoration-color: #00af00\">0</span> (unbuilt) │\n",
              "└──────────────────────────────────────┴─────────────────────────────┴─────────────────┘\n",
              "</pre>\n"
            ]
          },
          "metadata": {}
        },
        {
          "output_type": "display_data",
          "data": {
            "text/plain": [
              "\u001b[1m Total params: \u001b[0m\u001b[38;5;34m0\u001b[0m (0.00 B)\n"
            ],
            "text/html": [
              "<pre style=\"white-space:pre;overflow-x:auto;line-height:normal;font-family:Menlo,'DejaVu Sans Mono',consolas,'Courier New',monospace\"><span style=\"font-weight: bold\"> Total params: </span><span style=\"color: #00af00; text-decoration-color: #00af00\">0</span> (0.00 B)\n",
              "</pre>\n"
            ]
          },
          "metadata": {}
        },
        {
          "output_type": "display_data",
          "data": {
            "text/plain": [
              "\u001b[1m Trainable params: \u001b[0m\u001b[38;5;34m0\u001b[0m (0.00 B)\n"
            ],
            "text/html": [
              "<pre style=\"white-space:pre;overflow-x:auto;line-height:normal;font-family:Menlo,'DejaVu Sans Mono',consolas,'Courier New',monospace\"><span style=\"font-weight: bold\"> Trainable params: </span><span style=\"color: #00af00; text-decoration-color: #00af00\">0</span> (0.00 B)\n",
              "</pre>\n"
            ]
          },
          "metadata": {}
        },
        {
          "output_type": "display_data",
          "data": {
            "text/plain": [
              "\u001b[1m Non-trainable params: \u001b[0m\u001b[38;5;34m0\u001b[0m (0.00 B)\n"
            ],
            "text/html": [
              "<pre style=\"white-space:pre;overflow-x:auto;line-height:normal;font-family:Menlo,'DejaVu Sans Mono',consolas,'Courier New',monospace\"><span style=\"font-weight: bold\"> Non-trainable params: </span><span style=\"color: #00af00; text-decoration-color: #00af00\">0</span> (0.00 B)\n",
              "</pre>\n"
            ]
          },
          "metadata": {}
        },
        {
          "output_type": "stream",
          "name": "stdout",
          "text": [
            "None\n"
          ]
        }
      ]
    },
    {
      "cell_type": "code",
      "source": [
        "model.fit(X, y, epochs=50, verbose=0)"
      ],
      "metadata": {
        "colab": {
          "base_uri": "https://localhost:8080/"
        },
        "id": "M31bTwsDi6lJ",
        "outputId": "40423641-3e97-4e19-b204-b3cd247b18a9"
      },
      "execution_count": null,
      "outputs": [
        {
          "output_type": "execute_result",
          "data": {
            "text/plain": [
              "<keras.src.callbacks.history.History at 0x7ee99d4d7a90>"
            ]
          },
          "metadata": {},
          "execution_count": 13
        }
      ]
    },
    {
      "cell_type": "code",
      "source": [
        "loss, accuracy = model.evaluate(X, y)\n",
        "accuracy"
      ],
      "metadata": {
        "colab": {
          "base_uri": "https://localhost:8080/"
        },
        "id": "FL7h2gZki9l1",
        "outputId": "2e56f250-7d35-41ce-f111-7837621a00e5"
      },
      "execution_count": null,
      "outputs": [
        {
          "output_type": "stream",
          "name": "stdout",
          "text": [
            "\u001b[1m1/1\u001b[0m \u001b[32m━━━━━━━━━━━━━━━━━━━━\u001b[0m\u001b[37m\u001b[0m \u001b[1m0s\u001b[0m 210ms/step - accuracy: 1.0000 - loss: 0.6145\n"
          ]
        },
        {
          "output_type": "execute_result",
          "data": {
            "text/plain": [
              "1.0"
            ]
          },
          "metadata": {},
          "execution_count": 14
        }
      ]
    },
    {
      "cell_type": "code",
      "source": [
        "weights = model.get_layer('embedding').get_weights()[0]\n",
        "len(weights)"
      ],
      "metadata": {
        "colab": {
          "base_uri": "https://localhost:8080/"
        },
        "id": "7hnr85kgjC6C",
        "outputId": "1efdadef-b8a6-4fbd-8e6a-5a94bca906fb"
      },
      "execution_count": null,
      "outputs": [
        {
          "output_type": "execute_result",
          "data": {
            "text/plain": [
              "50"
            ]
          },
          "metadata": {},
          "execution_count": 15
        }
      ]
    },
    {
      "cell_type": "code",
      "source": [
        "list(weights[13])"
      ],
      "metadata": {
        "colab": {
          "base_uri": "https://localhost:8080/"
        },
        "id": "iEktOOd8jJCD",
        "outputId": "610901d0-7831-4736-9443-a5f8d0d6486c"
      },
      "execution_count": null,
      "outputs": [
        {
          "output_type": "execute_result",
          "data": {
            "text/plain": [
              "[0.0061048046, 0.031530213, -0.019687712, -0.026519502, -0.0478629]"
            ]
          },
          "metadata": {},
          "execution_count": 17
        }
      ]
    },
    {
      "cell_type": "code",
      "source": [
        "embedding_vector = weights[13]\n",
        "print(embedding_vector)"
      ],
      "metadata": {
        "colab": {
          "base_uri": "https://localhost:8080/"
        },
        "id": "-qMCIWVYkLVm",
        "outputId": "03c4a160-05c1-4334-a978-f28647ba7f6b"
      },
      "execution_count": null,
      "outputs": [
        {
          "output_type": "stream",
          "name": "stdout",
          "text": [
            "[ 0.0061048   0.03153021 -0.01968771 -0.0265195  -0.0478629 ]\n"
          ]
        }
      ]
    },
    {
      "cell_type": "code",
      "source": [
        "import tensorflow as tf\n",
        "embedding_matrix = [list(weights[i]) for i in range(vocab_size)]\n",
        "embedding_matrix = tf.convert_to_tensor(embedding_matrix)\n",
        "# embedding_matrix = tf.Variable(embedding_matrix)  ----Or you can do like this\n",
        "embedding_matrix"
      ],
      "metadata": {
        "colab": {
          "base_uri": "https://localhost:8080/"
        },
        "id": "JeuzhLpwkV1j",
        "outputId": "80e1ea1c-4730-4932-c931-485dd89fe955"
      },
      "execution_count": null,
      "outputs": [
        {
          "output_type": "execute_result",
          "data": {
            "text/plain": [
              "<tf.Tensor: shape=(50, 5), dtype=float32, numpy=\n",
              "array([[-2.86706313e-02,  1.61788450e-03, -3.98673825e-02,\n",
              "         2.24856958e-02,  1.63891669e-02],\n",
              "       [ 2.88908146e-02,  3.04538943e-02,  2.88514830e-02,\n",
              "        -1.45743378e-02, -4.58168164e-02],\n",
              "       [ 4.85246889e-02,  4.51984666e-02,  6.96875155e-04,\n",
              "         9.02198255e-04,  4.30475511e-02],\n",
              "       [-3.44876200e-03, -3.70579138e-02, -3.21608409e-02,\n",
              "         3.57946791e-02,  1.90812014e-02],\n",
              "       [ 4.40371372e-02, -3.11428439e-02, -8.11667368e-03,\n",
              "         4.61487882e-02, -3.53828073e-02],\n",
              "       [-7.56574795e-02, -5.82732596e-02,  7.93222524e-03,\n",
              "        -4.59109060e-02, -4.05674540e-02],\n",
              "       [ 1.36442715e-02,  1.85660776e-02,  4.58069667e-02,\n",
              "         1.30580179e-02, -2.28940696e-02],\n",
              "       [ 1.47971399e-02,  4.07754444e-02, -4.12362441e-02,\n",
              "         8.42060894e-03,  4.48719151e-02],\n",
              "       [-1.42291188e-02, -7.08068535e-03, -3.49169970e-02,\n",
              "        -4.04914021e-02,  4.85981219e-02],\n",
              "       [ 2.13003866e-02,  4.80288900e-02,  2.92876475e-02,\n",
              "         4.58639897e-02, -2.19498631e-02],\n",
              "       [ 3.45983021e-02, -3.14288363e-02, -1.77015886e-02,\n",
              "        -4.76930514e-02, -3.54787484e-02],\n",
              "       [ 6.82366714e-02, -4.64621037e-02,  6.11672662e-02,\n",
              "         8.96205828e-02,  4.93085831e-02],\n",
              "       [-1.48595087e-02, -3.52119096e-02,  4.91759069e-02,\n",
              "        -4.29804698e-02,  2.16397680e-02],\n",
              "       [ 6.10480458e-03,  3.15302126e-02, -1.96877122e-02,\n",
              "        -2.65195016e-02, -4.78628986e-02],\n",
              "       [ 1.80072077e-02,  2.88789347e-03, -8.09075683e-03,\n",
              "         4.98243235e-02, -1.05088949e-03],\n",
              "       [ 4.40538861e-02, -4.55504656e-02, -2.57192850e-02,\n",
              "         2.17380039e-02,  2.75924914e-02],\n",
              "       [ 1.65867545e-02, -1.90977696e-02, -4.25069444e-02,\n",
              "        -2.99390089e-02,  1.09755285e-02],\n",
              "       [ 3.84348147e-02,  3.26970480e-02,  3.35206836e-03,\n",
              "         3.64048518e-02, -4.82670441e-02],\n",
              "       [-2.21420098e-02, -2.51221769e-02, -3.11305057e-02,\n",
              "         2.07964331e-02, -1.23606632e-02],\n",
              "       [ 1.92323439e-02, -2.19649803e-02,  4.50070947e-03,\n",
              "        -3.47494707e-02,  4.95490544e-02],\n",
              "       [-3.89964953e-02, -3.25741656e-02, -1.57977827e-02,\n",
              "         4.70391996e-02, -2.51565706e-02],\n",
              "       [ 1.50660286e-02,  8.38849470e-02, -7.13244677e-02,\n",
              "         2.82112565e-02, -1.57649033e-02],\n",
              "       [ 6.28996789e-02, -8.95579904e-02,  1.13336733e-02,\n",
              "         6.30647987e-02,  8.94059194e-05],\n",
              "       [-4.46259864e-02,  3.27831544e-02,  2.74905674e-02,\n",
              "         1.76599883e-02, -2.08564643e-02],\n",
              "       [-9.39919129e-02, -4.67858650e-03, -7.39043057e-02,\n",
              "        -1.71624236e-02, -3.80982161e-02],\n",
              "       [ 3.04972790e-02, -2.24009398e-02,  2.61941887e-02,\n",
              "        -2.23601945e-02,  3.02547105e-02],\n",
              "       [-1.56270489e-02,  3.46097238e-02, -1.09437108e-02,\n",
              "         4.84079160e-02, -2.56952774e-02],\n",
              "       [ 1.17825501e-01,  7.31396377e-02, -5.87343946e-02,\n",
              "         9.24671665e-02,  5.25901727e-02],\n",
              "       [ 1.75489448e-02,  2.15301253e-02, -2.28420645e-03,\n",
              "        -3.72184031e-02, -9.76156443e-04],\n",
              "       [ 9.75519419e-03,  4.38085310e-02,  6.04496151e-03,\n",
              "         1.43951513e-02,  1.93086378e-02],\n",
              "       [ 1.49784656e-02,  6.08670339e-02, -2.96122618e-02,\n",
              "         1.74996387e-02,  5.82485124e-02],\n",
              "       [-1.91491973e-02,  8.81397203e-02, -2.83256080e-02,\n",
              "        -7.08311051e-02, -5.95524758e-02],\n",
              "       [-5.99570200e-03, -2.67183315e-02,  3.50097530e-02,\n",
              "        -1.11306086e-02,  3.73025797e-02],\n",
              "       [ 3.32999490e-02, -4.97887135e-02, -4.58939448e-02,\n",
              "        -4.40354832e-02,  8.41822475e-03],\n",
              "       [-2.83396244e-03,  4.99324314e-02,  8.37358087e-03,\n",
              "        -3.30124982e-02, -4.86461036e-02],\n",
              "       [ 4.59548347e-02, -4.18884270e-02, -3.57073322e-02,\n",
              "        -2.40851045e-02, -1.02881566e-02],\n",
              "       [-1.04976296e-02,  2.55836956e-02,  1.18863806e-02,\n",
              "        -3.94761078e-02,  9.63769108e-03],\n",
              "       [ 3.12028416e-02, -4.85674255e-02,  3.93740050e-02,\n",
              "         3.46683525e-02,  2.96647437e-02],\n",
              "       [ 5.08466065e-02, -7.21742958e-02,  9.11144540e-02,\n",
              "         4.03759703e-02,  2.73058889e-03],\n",
              "       [-4.10888307e-02,  4.99403067e-02, -7.44604468e-02,\n",
              "        -9.74077657e-02, -3.76759246e-02],\n",
              "       [-1.25792623e-02,  4.50599939e-04, -3.67229581e-02,\n",
              "         2.06387155e-02,  8.67427513e-03],\n",
              "       [-5.80037758e-03, -3.63041274e-02, -4.22489643e-02,\n",
              "         1.45122670e-02, -2.06673034e-02],\n",
              "       [-7.37518817e-02, -1.83847046e-03,  2.53839642e-02,\n",
              "        -1.75930411e-02, -4.66798507e-02],\n",
              "       [ 3.93341221e-02, -2.39050277e-02, -2.95633078e-03,\n",
              "         2.90032364e-02, -3.68565321e-03],\n",
              "       [-4.39076088e-02, -2.48276833e-02, -1.64498314e-02,\n",
              "        -1.24355666e-02,  2.58398540e-02],\n",
              "       [-8.52456242e-02,  7.45523572e-02, -4.15321477e-02,\n",
              "        -8.56165662e-02, -5.71649633e-02],\n",
              "       [-8.99612457e-02, -6.28869459e-02,  2.90810261e-02,\n",
              "        -9.98967588e-02, -1.15935402e-02],\n",
              "       [ 1.61415376e-02,  2.90366746e-02, -4.89406474e-02,\n",
              "        -1.67233832e-02,  1.91587843e-02],\n",
              "       [ 3.08180116e-02,  2.55657919e-02, -3.22358161e-02,\n",
              "         6.36936352e-03,  3.73000987e-02],\n",
              "       [ 2.02635452e-02, -1.11431815e-01,  1.18925020e-01,\n",
              "         3.10834385e-02,  4.78784665e-02]], dtype=float32)>"
            ]
          },
          "metadata": {},
          "execution_count": 21
        }
      ]
    }
  ]
}