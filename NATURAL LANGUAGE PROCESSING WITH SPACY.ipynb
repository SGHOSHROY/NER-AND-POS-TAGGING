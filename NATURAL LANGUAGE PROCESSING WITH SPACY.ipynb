{
 "cells": [
  {
   "cell_type": "code",
   "execution_count": 1,
   "id": "f1e3fe74",
   "metadata": {},
   "outputs": [],
   "source": [
    "from nltk.corpus import wordnet"
   ]
  },
  {
   "cell_type": "code",
   "execution_count": 2,
   "id": "b7a7f568",
   "metadata": {},
   "outputs": [
    {
     "name": "stderr",
     "output_type": "stream",
     "text": [
      "[nltk_data] Downloading package wordnet to\n",
      "[nltk_data]     C:\\Users\\Soubhik\\AppData\\Roaming\\nltk_data...\n",
      "[nltk_data]   Package wordnet is already up-to-date!\n"
     ]
    },
    {
     "data": {
      "text/plain": [
       "True"
      ]
     },
     "execution_count": 2,
     "metadata": {},
     "output_type": "execute_result"
    }
   ],
   "source": [
    "import nltk\n",
    "nltk.download('wordnet')"
   ]
  },
  {
   "cell_type": "code",
   "execution_count": 3,
   "id": "e53952fa",
   "metadata": {},
   "outputs": [
    {
     "name": "stderr",
     "output_type": "stream",
     "text": [
      "[nltk_data] Downloading package omw-1.4 to\n",
      "[nltk_data]     C:\\Users\\Soubhik\\AppData\\Roaming\\nltk_data...\n",
      "[nltk_data]   Package omw-1.4 is already up-to-date!\n"
     ]
    },
    {
     "data": {
      "text/plain": [
       "True"
      ]
     },
     "execution_count": 3,
     "metadata": {},
     "output_type": "execute_result"
    }
   ],
   "source": [
    "nltk.download('omw-1.4')"
   ]
  },
  {
   "cell_type": "markdown",
   "id": "87c590dc",
   "metadata": {},
   "source": [
    "## Synonym Sets"
   ]
  },
  {
   "cell_type": "code",
   "execution_count": 4,
   "id": "bf7b106d",
   "metadata": {},
   "outputs": [
    {
     "data": {
      "text/plain": [
       "[Synset('book.n.01'),\n",
       " Synset('book.n.02'),\n",
       " Synset('record.n.05'),\n",
       " Synset('script.n.01'),\n",
       " Synset('ledger.n.01'),\n",
       " Synset('book.n.06'),\n",
       " Synset('book.n.07'),\n",
       " Synset('koran.n.01'),\n",
       " Synset('bible.n.01'),\n",
       " Synset('book.n.10'),\n",
       " Synset('book.n.11'),\n",
       " Synset('book.v.01'),\n",
       " Synset('reserve.v.04'),\n",
       " Synset('book.v.03'),\n",
       " Synset('book.v.04')]"
      ]
     },
     "execution_count": 4,
     "metadata": {},
     "output_type": "execute_result"
    }
   ],
   "source": [
    "wordnet.synsets('Book')"
   ]
  },
  {
   "cell_type": "code",
   "execution_count": 5,
   "id": "cc50b6f1",
   "metadata": {},
   "outputs": [
    {
     "data": {
      "text/plain": [
       "[Synset('love.n.01'),\n",
       " Synset('love.n.02'),\n",
       " Synset('beloved.n.01'),\n",
       " Synset('love.n.04'),\n",
       " Synset('love.n.05'),\n",
       " Synset('sexual_love.n.02'),\n",
       " Synset('love.v.01'),\n",
       " Synset('love.v.02'),\n",
       " Synset('love.v.03'),\n",
       " Synset('sleep_together.v.01')]"
      ]
     },
     "execution_count": 5,
     "metadata": {},
     "output_type": "execute_result"
    }
   ],
   "source": [
    "wordnet.synsets('love')"
   ]
  },
  {
   "cell_type": "code",
   "execution_count": 6,
   "id": "414dce18",
   "metadata": {},
   "outputs": [
    {
     "name": "stdout",
     "output_type": "stream",
     "text": [
      "<class 'list'>\n",
      "Synset('book.n.01')\n"
     ]
    }
   ],
   "source": [
    "synonyms_book = wordnet.synsets('Book')\n",
    "print(type(synonyms_book))\n",
    "print(synonyms_book[0])"
   ]
  },
  {
   "cell_type": "code",
   "execution_count": 7,
   "id": "689ad441",
   "metadata": {},
   "outputs": [
    {
     "name": "stdout",
     "output_type": "stream",
     "text": [
      "a written work or composition that has been published (printed on pages bound together)\n"
     ]
    }
   ],
   "source": [
    "print(synonyms_book[0].definition())"
   ]
  },
  {
   "cell_type": "code",
   "execution_count": 8,
   "id": "0fb935ba",
   "metadata": {},
   "outputs": [
    {
     "name": "stdout",
     "output_type": "stream",
     "text": [
      "a motor vehicle with four wheels; usually propelled by an internal combustion engine\n",
      "Synonyms    Synset('car.n.01')    Synset('car.n.02')    Synset('car.n.03')    Synset('car.n.04')\n"
     ]
    }
   ],
   "source": [
    "synonyms_car = wordnet.synsets('Car')\n",
    "print(synonyms_car[0].definition())\n",
    "print(\"Synonyms\", \"  \", synonyms_car[0], \"  \", synonyms_car[1], \"  \", synonyms_car[2], \"  \",synonyms_car[3])"
   ]
  },
  {
   "cell_type": "code",
   "execution_count": 9,
   "id": "085bad89",
   "metadata": {},
   "outputs": [
    {
     "name": "stdout",
     "output_type": "stream",
     "text": [
      "[Lemma('car.n.01.car'), Lemma('car.n.01.auto'), Lemma('car.n.01.automobile'), Lemma('car.n.01.machine'), Lemma('car.n.01.motorcar')]\n",
      "[Lemma('car.n.02.car'), Lemma('car.n.02.railcar'), Lemma('car.n.02.railway_car'), Lemma('car.n.02.railroad_car')]\n",
      "[Lemma('car.n.03.car'), Lemma('car.n.03.gondola')]\n",
      "[Lemma('car.n.04.car'), Lemma('car.n.04.elevator_car')]\n",
      "[Lemma('cable_car.n.01.cable_car'), Lemma('cable_car.n.01.car')]\n"
     ]
    }
   ],
   "source": [
    "for syn in synonyms_car:\n",
    "    print(syn.lemmas())"
   ]
  },
  {
   "cell_type": "code",
   "execution_count": 10,
   "id": "21061ebf",
   "metadata": {},
   "outputs": [
    {
     "name": "stdout",
     "output_type": "stream",
     "text": [
      "['car', 'auto', 'automobile', 'machine', 'motorcar', 'car', 'railcar', 'railway_car', 'railroad_car', 'car', 'gondola', 'car', 'elevator_car', 'cable_car', 'car']\n"
     ]
    }
   ],
   "source": [
    "synonyms = []\n",
    "\n",
    "for syn in wordnet.synsets('Car'):\n",
    "    for lemma in syn.lemmas():\n",
    "        synonyms.append(lemma.name())\n",
    "        \n",
    "print(synonyms)"
   ]
  },
  {
   "cell_type": "code",
   "execution_count": 11,
   "id": "95ad3134",
   "metadata": {},
   "outputs": [
    {
     "name": "stdout",
     "output_type": "stream",
     "text": [
      "['happy', 'felicitous', 'happy', 'glad', 'happy', 'happy', 'well-chosen']\n"
     ]
    }
   ],
   "source": [
    "happy_synonyms = []\n",
    "\n",
    "for syn in wordnet.synsets('Happy'):\n",
    "    for lemma in syn.lemmas():\n",
    "        happy_synonyms.append(lemma.name())\n",
    "        \n",
    "print(happy_synonyms)"
   ]
  },
  {
   "cell_type": "code",
   "execution_count": 13,
   "id": "4d22f032",
   "metadata": {},
   "outputs": [],
   "source": [
    "happy_antonyms = []\n",
    "\n",
    "for ant in wordnet.synsets('Good'):\n",
    "    for antonyms in ant.lemmas():\n",
    "        if lemma.antonyms():\n",
    "            print(lemma.antonyms()) "
   ]
  },
  {
   "cell_type": "code",
   "execution_count": 14,
   "id": "c57fae8f",
   "metadata": {},
   "outputs": [],
   "source": [
    "ant=[]\n",
    "for a in wordnet.synsets('Healthy'):\n",
    "    for lemma in a.lemmas():\n",
    "        if lemma.antonyms():\n",
    "            ant.append(lemma.antonyms()[0].name())"
   ]
  },
  {
   "cell_type": "code",
   "execution_count": 15,
   "id": "a6168491",
   "metadata": {},
   "outputs": [
    {
     "name": "stdout",
     "output_type": "stream",
     "text": [
      "['unhealthy']\n"
     ]
    }
   ],
   "source": [
    "print(ant)"
   ]
  },
  {
   "cell_type": "code",
   "execution_count": 16,
   "id": "ac214ebf",
   "metadata": {},
   "outputs": [],
   "source": [
    "happy_antonyms = []\n",
    "\n",
    "for ant in wordnet.synsets('Good'):\n",
    "    for antonyms in ant.lemmas():\n",
    "        if lemma.antonyms():\n",
    "            happy_antonyms.append(lemma.antonyms()) "
   ]
  },
  {
   "cell_type": "code",
   "execution_count": 17,
   "id": "bde8e109",
   "metadata": {},
   "outputs": [
    {
     "name": "stdout",
     "output_type": "stream",
     "text": [
      "[]\n"
     ]
    }
   ],
   "source": [
    "print(happy_antonyms)"
   ]
  },
  {
   "cell_type": "code",
   "execution_count": 19,
   "id": "e60bc836",
   "metadata": {},
   "outputs": [],
   "source": [
    "rich_antonyms = []\n",
    "\n",
    "for ant in wordnet.synsets('rich'):\n",
    "    for antonyms in ant.lemmas():\n",
    "        if lemma.antonyms():\n",
    "            rich_antonyms.append(lemma.antonyms()) "
   ]
  },
  {
   "cell_type": "code",
   "execution_count": 20,
   "id": "a5a5a485",
   "metadata": {},
   "outputs": [
    {
     "name": "stdout",
     "output_type": "stream",
     "text": [
      "[]\n"
     ]
    }
   ],
   "source": [
    "print(happy_antonyms)"
   ]
  },
  {
   "cell_type": "code",
   "execution_count": 21,
   "id": "178debaf",
   "metadata": {},
   "outputs": [
    {
     "name": "stdout",
     "output_type": "stream",
     "text": [
      "[]\n"
     ]
    }
   ],
   "source": [
    "print(rich_antonyms)"
   ]
  },
  {
   "cell_type": "code",
   "execution_count": 22,
   "id": "54ce3a36",
   "metadata": {},
   "outputs": [],
   "source": [
    "Large_ant=[]\n",
    "for a in wordnet.synsets('Large'):\n",
    "    for lemma in a.lemmas():\n",
    "        if lemma.antonyms():\n",
    "            Large_ant.append(lemma.antonyms()[0].name())"
   ]
  },
  {
   "cell_type": "code",
   "execution_count": 24,
   "id": "11720059",
   "metadata": {},
   "outputs": [
    {
     "name": "stdout",
     "output_type": "stream",
     "text": [
      "['small', 'little']\n"
     ]
    }
   ],
   "source": [
    "print(Large_ant)"
   ]
  },
  {
   "cell_type": "code",
   "execution_count": 25,
   "id": "dc88a9c1",
   "metadata": {},
   "outputs": [],
   "source": [
    "for a in wordnet.synsets('Happy'):\n",
    "    for lemma in a.lemmas():\n",
    "        if lemma.antonyms():\n",
    "            happy_antonyms.append(lemma.antonyms()[0].name())"
   ]
  },
  {
   "cell_type": "code",
   "execution_count": 26,
   "id": "193141a0",
   "metadata": {},
   "outputs": [
    {
     "name": "stdout",
     "output_type": "stream",
     "text": [
      "['unhappy']\n"
     ]
    }
   ],
   "source": [
    "print(happy_antonyms)"
   ]
  },
  {
   "cell_type": "code",
   "execution_count": 27,
   "id": "dbd26d52",
   "metadata": {},
   "outputs": [],
   "source": [
    "for a in wordnet.synsets('Rich'):\n",
    "    for lemma in a.lemmas():\n",
    "        if lemma.antonyms():\n",
    "            happy_antonyms.append(lemma.antonyms()[0].name())"
   ]
  },
  {
   "cell_type": "code",
   "execution_count": 28,
   "id": "fef65f8e",
   "metadata": {},
   "outputs": [
    {
     "name": "stdout",
     "output_type": "stream",
     "text": [
      "['unhappy', 'poor_people', 'poor', 'poor', 'poor', 'lean', 'poor']\n"
     ]
    }
   ],
   "source": [
    "print(happy_antonyms)"
   ]
  }
 ],
 "metadata": {
  "kernelspec": {
   "display_name": "Python 3 (ipykernel)",
   "language": "python",
   "name": "python3"
  },
  "language_info": {
   "codemirror_mode": {
    "name": "ipython",
    "version": 3
   },
   "file_extension": ".py",
   "mimetype": "text/x-python",
   "name": "python",
   "nbconvert_exporter": "python",
   "pygments_lexer": "ipython3",
   "version": "3.9.7"
  }
 },
 "nbformat": 4,
 "nbformat_minor": 5
}
